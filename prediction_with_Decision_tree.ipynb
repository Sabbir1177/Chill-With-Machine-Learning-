{
  "nbformat": 4,
  "nbformat_minor": 0,
  "metadata": {
    "colab": {
      "name": "prediction with Decision tree.ipynb",
      "provenance": [],
      "authorship_tag": "ABX9TyO2ttP+hgQN+QYoPVGt04OF",
      "include_colab_link": true
    },
    "kernelspec": {
      "name": "python3",
      "display_name": "Python 3"
    },
    "language_info": {
      "name": "python"
    }
  },
  "cells": [
    {
      "cell_type": "markdown",
      "metadata": {
        "id": "view-in-github",
        "colab_type": "text"
      },
      "source": [
        "<a href=\"https://colab.research.google.com/github/Sabbir1177/ML-proejct/blob/main/prediction_with_Decision_tree.ipynb\" target=\"_parent\"><img src=\"https://colab.research.google.com/assets/colab-badge.svg\" alt=\"Open In Colab\"/></a>"
      ]
    },
    {
      "cell_type": "code",
      "execution_count": 1,
      "metadata": {
        "id": "blQyMLsP1fbS"
      },
      "outputs": [],
      "source": [
        "import  pandas as pd\n",
        "from sklearn import tree"
      ]
    },
    {
      "cell_type": "code",
      "source": [
        "path = '/content/size male female.csv'\n",
        "df = pd.read_csv(path)\n",
        "print(df)\n"
      ],
      "metadata": {
        "colab": {
          "base_uri": "https://localhost:8080/"
        },
        "id": "uOnLP7nw14ud",
        "outputId": "efa6b539-9c94-4e43-ea13-e72a1677b5ac"
      },
      "execution_count": 2,
      "outputs": [
        {
          "output_type": "stream",
          "name": "stdout",
          "text": [
            "   Height   Weight  Shoe size  Gender\n",
            "0      181      80         44    male\n",
            "1      177      70         43  female\n",
            "2      160      60         38  female\n",
            "3      154      54         37  female\n",
            "4      166      65         40    male\n",
            "5      190      90         47    male\n",
            "6      175      64         39    male\n",
            "7      171      75         42  female\n",
            "8      185      85         43  female\n",
            "9      169      71         42    male\n"
          ]
        }
      ]
    },
    {
      "cell_type": "code",
      "source": [
        "x = df.iloc[:,:-1]\n"
      ],
      "metadata": {
        "id": "5Wn62jBr2zTk"
      },
      "execution_count": 15,
      "outputs": []
    },
    {
      "cell_type": "code",
      "source": [
        "print(x)"
      ],
      "metadata": {
        "colab": {
          "base_uri": "https://localhost:8080/"
        },
        "id": "b7VZKd9Z4-3K",
        "outputId": "48939e69-3e46-47b8-8c93-f205d05e7a77"
      },
      "execution_count": 16,
      "outputs": [
        {
          "output_type": "stream",
          "name": "stdout",
          "text": [
            "   Height   Weight  Shoe size\n",
            "0      181      80         44\n",
            "1      177      70         43\n",
            "2      160      60         38\n",
            "3      154      54         37\n",
            "4      166      65         40\n",
            "5      190      90         47\n",
            "6      175      64         39\n",
            "7      171      75         42\n",
            "8      185      85         43\n",
            "9      169      71         42\n"
          ]
        }
      ]
    },
    {
      "cell_type": "code",
      "source": [
        "y = df.iloc[: , -1:]"
      ],
      "metadata": {
        "id": "hvGb6x7t5Be1"
      },
      "execution_count": 25,
      "outputs": []
    },
    {
      "cell_type": "code",
      "source": [
        "print(y)"
      ],
      "metadata": {
        "colab": {
          "base_uri": "https://localhost:8080/"
        },
        "id": "BU27i-2w5qra",
        "outputId": "879a0092-f1e4-4215-b22a-8c7db4854ffb"
      },
      "execution_count": 26,
      "outputs": [
        {
          "output_type": "stream",
          "name": "stdout",
          "text": [
            "   Gender\n",
            "0    male\n",
            "1  female\n",
            "2  female\n",
            "3  female\n",
            "4    male\n",
            "5    male\n",
            "6    male\n",
            "7  female\n",
            "8  female\n",
            "9    male\n"
          ]
        }
      ]
    },
    {
      "cell_type": "code",
      "source": [
        "classify = tree.DecisionTreeClassifier()\n",
        "classify = classify.fit(x,y)\n",
        "prediction = classify.predict([[195,70,41]])"
      ],
      "metadata": {
        "colab": {
          "base_uri": "https://localhost:8080/"
        },
        "id": "kSW15auX5tTg",
        "outputId": "3ae77ec0-1ba4-498d-e8b3-155cf2691f43"
      },
      "execution_count": 35,
      "outputs": [
        {
          "output_type": "stream",
          "name": "stderr",
          "text": [
            "/usr/local/lib/python3.7/dist-packages/sklearn/base.py:451: UserWarning: X does not have valid feature names, but DecisionTreeClassifier was fitted with feature names\n",
            "  \"X does not have valid feature names, but\"\n"
          ]
        }
      ]
    },
    {
      "cell_type": "code",
      "source": [
        "print (prediction)"
      ],
      "metadata": {
        "colab": {
          "base_uri": "https://localhost:8080/"
        },
        "id": "H25Lahs47vox",
        "outputId": "e3390989-da92-4f3d-92b3-1e0cd847e998"
      },
      "execution_count": 36,
      "outputs": [
        {
          "output_type": "stream",
          "name": "stdout",
          "text": [
            "['female']\n"
          ]
        }
      ]
    },
    {
      "cell_type": "code",
      "source": [
        ""
      ],
      "metadata": {
        "id": "qt7EHmog7zr6"
      },
      "execution_count": null,
      "outputs": []
    }
  ]
}